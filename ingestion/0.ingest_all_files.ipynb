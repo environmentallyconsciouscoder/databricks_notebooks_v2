{
 "cells": [
  {
   "cell_type": "code",
   "execution_count": null,
   "metadata": {},
   "outputs": [],
   "source": [
    "#here you are passing in the param as Ergast API, time out in 0 seconds and file name is 1.ingest_circuits_file\n",
    "\n",
    "v_result = dbutils.notebook.run(\"1.ingest_circuits_file\", 0, {\"p_data_source\": \"Ergast API\"})"
   ]
  },
  {
   "cell_type": "markdown",
   "metadata": {},
   "source": [
    "So if v_result is success, then carry on otherwise you can fail here. So in case of ingestion and then if you want to do some transformations and then make it available for\n",
    "a presentation layer, you could say only when all my ingestion have succeeded,\n",
    "I want to do the transformation, so you can capture the exit code and then execute the following notebooks,\n",
    "only based on the condition there.\n",
    "So that's how it works."
   ]
  },
  {
   "cell_type": "code",
   "execution_count": null,
   "metadata": {},
   "outputs": [],
   "source": [
    "#this will print out success if the notebook has been successfully executed\n",
    "v_result"
   ]
  },
  {
   "cell_type": "markdown",
   "metadata": {},
   "source": [
    "So Databricks gives you the ability, but that is basically using the Python constructs such as Threads to do it. And let me pull up the help for that one here. So this page has got the implementation on how to run multiple notebooks. So there is an example as well here.\n",
    "So I would like you to go away and have a look at that. As I said before, generally these kind of things are not done in Databricks, because of its limited capability within the scheduler itself. You'll have to write Python code like this in order to achieve concurrent execution and\n",
    "things like that. So instead of this in a production scenario, you would go to Azure Data Factory, because that gives you a rich set of capabilities.\n",
    "Like you can execute things in parallel, you can have different types of clusters for each one of them\n",
    "and all of that kind of stuff.\n",
    "\n"
   ]
  },
  {
   "cell_type": "markdown",
   "metadata": {},
   "source": []
  }
 ],
 "metadata": {
  "language_info": {
   "name": "python"
  }
 },
 "nbformat": 4,
 "nbformat_minor": 2
}
