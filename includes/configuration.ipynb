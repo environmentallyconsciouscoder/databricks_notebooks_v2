{
 "cells": [
  {
   "cell_type": "code",
   "execution_count": null,
   "metadata": {},
   "outputs": [],
   "source": [
    "raw_folder_path = '/mnt/formula1dl/raw'\n",
    "processed_folder_path = '/mnt/formula1dl/processed'\n",
    "presentation_folder_path = '/mnt/formula1dl/presentation'"
   ]
  },
  {
   "cell_type": "code",
   "execution_count": null,
   "metadata": {},
   "outputs": [],
   "source": []
  }
 ],
 "metadata": {
  "language_info": {
   "name": "python"
  }
 },
 "nbformat": 4,
 "nbformat_minor": 2
}
