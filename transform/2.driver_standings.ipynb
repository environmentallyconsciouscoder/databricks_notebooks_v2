{
 "cells": [
  {
   "cell_type": "code",
   "execution_count": null,
   "metadata": {},
   "outputs": [],
   "source": [
    "%run \"../includes/configuration\""
   ]
  },
  {
   "cell_type": "code",
   "execution_count": null,
   "metadata": {},
   "outputs": [],
   "source": [
    "race_results_df = spark.read.poarquet(f\"{presentation_folder_path}/race_results\")"
   ]
  },
  {
   "cell_type": "code",
   "execution_count": null,
   "metadata": {},
   "outputs": [],
   "source": [
    "display(race_results_df)"
   ]
  },
  {
   "cell_type": "code",
   "execution_count": null,
   "metadata": {},
   "outputs": [],
   "source": [
    "from pyspark.sql.functions import sum, when, col, count\n",
    "\n",
    "driver_standings_df = race_results_df \\\n",
    "    .groupBy(\"race_year\", \"driver_name\", \"driver_nationality\", \"team\") \\\n",
    "    .agg(sum(\"points\").alias(\"total_points\"), count(when(col(\"position\") == 1, True)).alias(\"win\"))"
   ]
  },
  {
   "cell_type": "code",
   "execution_count": null,
   "metadata": {},
   "outputs": [],
   "source": [
    "display(driver_standings_df)"
   ]
  },
  {
   "cell_type": "code",
   "execution_count": null,
   "metadata": {},
   "outputs": [],
   "source": [
    "from pyspark.sql.window import Window\n",
    "from pyspark.sql.functions import desc, rank, asc\n",
    "\n",
    "driver_rank_spec = Window.partitionBy(\"race_year\").orderBy(desc(\"total_points\"),  desc(\"wins\"))\n",
    "final_df = driver_standings_df.withColumn(\"rank\", rank().over(driver_rank_spec))"
   ]
  },
  {
   "cell_type": "code",
   "execution_count": null,
   "metadata": {},
   "outputs": [],
   "source": [
    "final_df.write.mode(\"overwrite\").parquet(f\"{presentation_folder_path}/driver_standings\")"
   ]
  }
 ],
 "metadata": {
  "language_info": {
   "name": "python"
  }
 },
 "nbformat": 4,
 "nbformat_minor": 2
}
